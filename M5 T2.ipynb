{
 "cells": [
  {
   "cell_type": "code",
   "execution_count": 1,
   "metadata": {
    "colab": {},
    "colab_type": "code",
    "id": "GlJaXfg0iyr8"
   },
   "outputs": [],
   "source": [
    "import seaborn as sns\n",
    "import numpy as np\n",
    "import matplotlib.pyplot as plt\n",
    "import pandas as pd\n",
    "import warnings\n",
    "warnings.simplefilter('ignore')\n",
    "#plt.style.use('dark_background')\n",
    "from sklearn.metrics import mean_squared_error as mse\n"
   ]
  },
  {
   "cell_type": "code",
   "execution_count": 2,
   "metadata": {
    "colab": {
     "base_uri": "https://localhost:8080/",
     "height": 326
    },
    "colab_type": "code",
    "executionInfo": {
     "elapsed": 2493,
     "status": "ok",
     "timestamp": 1583905389346,
     "user": {
      "displayName": "Sharoon Saxena",
      "photoUrl": "https://lh3.googleusercontent.com/a-/AOh14GjyKz9rNCPkHi6QK8TjrjBFlTtaI9ngf0hIwgAl=s64",
      "userId": "01167841530696023488"
     },
     "user_tz": -330
    },
    "id": "Q3PavKKQM1e-",
    "outputId": "5a0e2eb0-ffbb-48ae-d9fd-e279e38a0846"
   },
   "outputs": [
    {
     "data": {
      "text/html": [
       "<div>\n",
       "<style scoped>\n",
       "    .dataframe tbody tr th:only-of-type {\n",
       "        vertical-align: middle;\n",
       "    }\n",
       "\n",
       "    .dataframe tbody tr th {\n",
       "        vertical-align: top;\n",
       "    }\n",
       "\n",
       "    .dataframe thead th {\n",
       "        text-align: right;\n",
       "    }\n",
       "</style>\n",
       "<table border=\"1\" class=\"dataframe\">\n",
       "  <thead>\n",
       "    <tr style=\"text-align: right;\">\n",
       "      <th></th>\n",
       "      <th>Sale_Price</th>\n",
       "      <th>No of Bedrooms</th>\n",
       "      <th>No of Bathrooms</th>\n",
       "      <th>Flat Area (in Sqft)</th>\n",
       "      <th>Lot Area (in Sqft)</th>\n",
       "      <th>No of Floors</th>\n",
       "      <th>No of Times Visited</th>\n",
       "      <th>Overall Grade</th>\n",
       "      <th>Area of the House from Basement (in Sqft)</th>\n",
       "      <th>Basement Area (in Sqft)</th>\n",
       "      <th>...</th>\n",
       "      <th>Waterfront_View_Yes</th>\n",
       "      <th>Zipcode_Group_Zipcode_Group_1</th>\n",
       "      <th>Zipcode_Group_Zipcode_Group_2</th>\n",
       "      <th>Zipcode_Group_Zipcode_Group_3</th>\n",
       "      <th>Zipcode_Group_Zipcode_Group_4</th>\n",
       "      <th>Zipcode_Group_Zipcode_Group_5</th>\n",
       "      <th>Zipcode_Group_Zipcode_Group_6</th>\n",
       "      <th>Zipcode_Group_Zipcode_Group_7</th>\n",
       "      <th>Zipcode_Group_Zipcode_Group_8</th>\n",
       "      <th>Zipcode_Group_Zipcode_Group_9</th>\n",
       "    </tr>\n",
       "  </thead>\n",
       "  <tbody>\n",
       "    <tr>\n",
       "      <th>0</th>\n",
       "      <td>221900.0</td>\n",
       "      <td>3</td>\n",
       "      <td>1.00</td>\n",
       "      <td>1180.0</td>\n",
       "      <td>5650.0</td>\n",
       "      <td>1.0</td>\n",
       "      <td>0</td>\n",
       "      <td>7</td>\n",
       "      <td>1180.0</td>\n",
       "      <td>0</td>\n",
       "      <td>...</td>\n",
       "      <td>0</td>\n",
       "      <td>0</td>\n",
       "      <td>0</td>\n",
       "      <td>0</td>\n",
       "      <td>0</td>\n",
       "      <td>0</td>\n",
       "      <td>0</td>\n",
       "      <td>0</td>\n",
       "      <td>0</td>\n",
       "      <td>0</td>\n",
       "    </tr>\n",
       "    <tr>\n",
       "      <th>1</th>\n",
       "      <td>538000.0</td>\n",
       "      <td>3</td>\n",
       "      <td>2.25</td>\n",
       "      <td>2570.0</td>\n",
       "      <td>7242.0</td>\n",
       "      <td>2.0</td>\n",
       "      <td>0</td>\n",
       "      <td>7</td>\n",
       "      <td>2170.0</td>\n",
       "      <td>400</td>\n",
       "      <td>...</td>\n",
       "      <td>0</td>\n",
       "      <td>0</td>\n",
       "      <td>1</td>\n",
       "      <td>0</td>\n",
       "      <td>0</td>\n",
       "      <td>0</td>\n",
       "      <td>0</td>\n",
       "      <td>0</td>\n",
       "      <td>0</td>\n",
       "      <td>0</td>\n",
       "    </tr>\n",
       "    <tr>\n",
       "      <th>2</th>\n",
       "      <td>180000.0</td>\n",
       "      <td>2</td>\n",
       "      <td>1.00</td>\n",
       "      <td>770.0</td>\n",
       "      <td>10000.0</td>\n",
       "      <td>1.0</td>\n",
       "      <td>0</td>\n",
       "      <td>6</td>\n",
       "      <td>770.0</td>\n",
       "      <td>0</td>\n",
       "      <td>...</td>\n",
       "      <td>0</td>\n",
       "      <td>0</td>\n",
       "      <td>1</td>\n",
       "      <td>0</td>\n",
       "      <td>0</td>\n",
       "      <td>0</td>\n",
       "      <td>0</td>\n",
       "      <td>0</td>\n",
       "      <td>0</td>\n",
       "      <td>0</td>\n",
       "    </tr>\n",
       "    <tr>\n",
       "      <th>3</th>\n",
       "      <td>604000.0</td>\n",
       "      <td>4</td>\n",
       "      <td>3.00</td>\n",
       "      <td>1960.0</td>\n",
       "      <td>5000.0</td>\n",
       "      <td>1.0</td>\n",
       "      <td>0</td>\n",
       "      <td>7</td>\n",
       "      <td>1050.0</td>\n",
       "      <td>910</td>\n",
       "      <td>...</td>\n",
       "      <td>0</td>\n",
       "      <td>0</td>\n",
       "      <td>0</td>\n",
       "      <td>1</td>\n",
       "      <td>0</td>\n",
       "      <td>0</td>\n",
       "      <td>0</td>\n",
       "      <td>0</td>\n",
       "      <td>0</td>\n",
       "      <td>0</td>\n",
       "    </tr>\n",
       "    <tr>\n",
       "      <th>4</th>\n",
       "      <td>510000.0</td>\n",
       "      <td>3</td>\n",
       "      <td>2.00</td>\n",
       "      <td>1680.0</td>\n",
       "      <td>8080.0</td>\n",
       "      <td>1.0</td>\n",
       "      <td>0</td>\n",
       "      <td>8</td>\n",
       "      <td>1680.0</td>\n",
       "      <td>0</td>\n",
       "      <td>...</td>\n",
       "      <td>0</td>\n",
       "      <td>0</td>\n",
       "      <td>0</td>\n",
       "      <td>0</td>\n",
       "      <td>1</td>\n",
       "      <td>0</td>\n",
       "      <td>0</td>\n",
       "      <td>0</td>\n",
       "      <td>0</td>\n",
       "      <td>0</td>\n",
       "    </tr>\n",
       "  </tbody>\n",
       "</table>\n",
       "<p>5 rows × 31 columns</p>\n",
       "</div>"
      ],
      "text/plain": [
       "   Sale_Price  No of Bedrooms  No of Bathrooms  Flat Area (in Sqft)  \\\n",
       "0    221900.0               3             1.00               1180.0   \n",
       "1    538000.0               3             2.25               2570.0   \n",
       "2    180000.0               2             1.00                770.0   \n",
       "3    604000.0               4             3.00               1960.0   \n",
       "4    510000.0               3             2.00               1680.0   \n",
       "\n",
       "   Lot Area (in Sqft)  No of Floors  No of Times Visited  Overall Grade  \\\n",
       "0              5650.0           1.0                    0              7   \n",
       "1              7242.0           2.0                    0              7   \n",
       "2             10000.0           1.0                    0              6   \n",
       "3              5000.0           1.0                    0              7   \n",
       "4              8080.0           1.0                    0              8   \n",
       "\n",
       "   Area of the House from Basement (in Sqft)  Basement Area (in Sqft)  ...  \\\n",
       "0                                     1180.0                        0  ...   \n",
       "1                                     2170.0                      400  ...   \n",
       "2                                      770.0                        0  ...   \n",
       "3                                     1050.0                      910  ...   \n",
       "4                                     1680.0                        0  ...   \n",
       "\n",
       "   Waterfront_View_Yes  Zipcode_Group_Zipcode_Group_1  \\\n",
       "0                    0                              0   \n",
       "1                    0                              0   \n",
       "2                    0                              0   \n",
       "3                    0                              0   \n",
       "4                    0                              0   \n",
       "\n",
       "   Zipcode_Group_Zipcode_Group_2  Zipcode_Group_Zipcode_Group_3  \\\n",
       "0                              0                              0   \n",
       "1                              1                              0   \n",
       "2                              1                              0   \n",
       "3                              0                              1   \n",
       "4                              0                              0   \n",
       "\n",
       "   Zipcode_Group_Zipcode_Group_4  Zipcode_Group_Zipcode_Group_5  \\\n",
       "0                              0                              0   \n",
       "1                              0                              0   \n",
       "2                              0                              0   \n",
       "3                              0                              0   \n",
       "4                              1                              0   \n",
       "\n",
       "   Zipcode_Group_Zipcode_Group_6  Zipcode_Group_Zipcode_Group_7  \\\n",
       "0                              0                              0   \n",
       "1                              0                              0   \n",
       "2                              0                              0   \n",
       "3                              0                              0   \n",
       "4                              0                              0   \n",
       "\n",
       "   Zipcode_Group_Zipcode_Group_8  Zipcode_Group_Zipcode_Group_9  \n",
       "0                              0                              0  \n",
       "1                              0                              0  \n",
       "2                              0                              0  \n",
       "3                              0                              0  \n",
       "4                              0                              0  \n",
       "\n",
       "[5 rows x 31 columns]"
      ]
     },
     "execution_count": 2,
     "metadata": {},
     "output_type": "execute_result"
    }
   ],
   "source": [
    "data = pd.read_csv(\"Transformed_Housing_Data2.csv\")\n",
    "data.head()"
   ]
  },
  {
   "cell_type": "code",
   "execution_count": 3,
   "metadata": {
    "colab": {
     "base_uri": "https://localhost:8080/",
     "height": 979
    },
    "colab_type": "code",
    "executionInfo": {
     "elapsed": 2255,
     "status": "ok",
     "timestamp": 1583905389347,
     "user": {
      "displayName": "Sharoon Saxena",
      "photoUrl": "https://lh3.googleusercontent.com/a-/AOh14GjyKz9rNCPkHi6QK8TjrjBFlTtaI9ngf0hIwgAl=s64",
      "userId": "01167841530696023488"
     },
     "user_tz": -330
    },
    "id": "RUr712Sti5A8",
    "outputId": "42b15eaa-7403-4711-8342-ceae5f05dce1"
   },
   "outputs": [
    {
     "data": {
      "text/html": [
       "<div>\n",
       "<style scoped>\n",
       "    .dataframe tbody tr th:only-of-type {\n",
       "        vertical-align: middle;\n",
       "    }\n",
       "\n",
       "    .dataframe tbody tr th {\n",
       "        vertical-align: top;\n",
       "    }\n",
       "\n",
       "    .dataframe thead th {\n",
       "        text-align: right;\n",
       "    }\n",
       "</style>\n",
       "<table border=\"1\" class=\"dataframe\">\n",
       "  <thead>\n",
       "    <tr style=\"text-align: right;\">\n",
       "      <th></th>\n",
       "      <th>sale_price</th>\n",
       "      <th>flat_area</th>\n",
       "    </tr>\n",
       "  </thead>\n",
       "  <tbody>\n",
       "    <tr>\n",
       "      <th>0</th>\n",
       "      <td>221900.0</td>\n",
       "      <td>1180.0</td>\n",
       "    </tr>\n",
       "    <tr>\n",
       "      <th>1</th>\n",
       "      <td>538000.0</td>\n",
       "      <td>2570.0</td>\n",
       "    </tr>\n",
       "    <tr>\n",
       "      <th>2</th>\n",
       "      <td>180000.0</td>\n",
       "      <td>770.0</td>\n",
       "    </tr>\n",
       "    <tr>\n",
       "      <th>3</th>\n",
       "      <td>604000.0</td>\n",
       "      <td>1960.0</td>\n",
       "    </tr>\n",
       "    <tr>\n",
       "      <th>4</th>\n",
       "      <td>510000.0</td>\n",
       "      <td>1680.0</td>\n",
       "    </tr>\n",
       "    <tr>\n",
       "      <th>5</th>\n",
       "      <td>1129575.0</td>\n",
       "      <td>5420.0</td>\n",
       "    </tr>\n",
       "    <tr>\n",
       "      <th>6</th>\n",
       "      <td>257500.0</td>\n",
       "      <td>1715.0</td>\n",
       "    </tr>\n",
       "    <tr>\n",
       "      <th>7</th>\n",
       "      <td>291850.0</td>\n",
       "      <td>1060.0</td>\n",
       "    </tr>\n",
       "    <tr>\n",
       "      <th>8</th>\n",
       "      <td>229500.0</td>\n",
       "      <td>1780.0</td>\n",
       "    </tr>\n",
       "    <tr>\n",
       "      <th>9</th>\n",
       "      <td>323000.0</td>\n",
       "      <td>1890.0</td>\n",
       "    </tr>\n",
       "    <tr>\n",
       "      <th>10</th>\n",
       "      <td>662500.0</td>\n",
       "      <td>3560.0</td>\n",
       "    </tr>\n",
       "    <tr>\n",
       "      <th>11</th>\n",
       "      <td>468000.0</td>\n",
       "      <td>1160.0</td>\n",
       "    </tr>\n",
       "    <tr>\n",
       "      <th>12</th>\n",
       "      <td>310000.0</td>\n",
       "      <td>1430.0</td>\n",
       "    </tr>\n",
       "    <tr>\n",
       "      <th>13</th>\n",
       "      <td>400000.0</td>\n",
       "      <td>1370.0</td>\n",
       "    </tr>\n",
       "    <tr>\n",
       "      <th>14</th>\n",
       "      <td>530000.0</td>\n",
       "      <td>1810.0</td>\n",
       "    </tr>\n",
       "    <tr>\n",
       "      <th>15</th>\n",
       "      <td>650000.0</td>\n",
       "      <td>2950.0</td>\n",
       "    </tr>\n",
       "    <tr>\n",
       "      <th>16</th>\n",
       "      <td>395000.0</td>\n",
       "      <td>1890.0</td>\n",
       "    </tr>\n",
       "    <tr>\n",
       "      <th>17</th>\n",
       "      <td>485000.0</td>\n",
       "      <td>1600.0</td>\n",
       "    </tr>\n",
       "    <tr>\n",
       "      <th>18</th>\n",
       "      <td>189000.0</td>\n",
       "      <td>1200.0</td>\n",
       "    </tr>\n",
       "    <tr>\n",
       "      <th>19</th>\n",
       "      <td>230000.0</td>\n",
       "      <td>1250.0</td>\n",
       "    </tr>\n",
       "    <tr>\n",
       "      <th>20</th>\n",
       "      <td>385000.0</td>\n",
       "      <td>1620.0</td>\n",
       "    </tr>\n",
       "    <tr>\n",
       "      <th>21</th>\n",
       "      <td>1129575.0</td>\n",
       "      <td>3050.0</td>\n",
       "    </tr>\n",
       "    <tr>\n",
       "      <th>22</th>\n",
       "      <td>285000.0</td>\n",
       "      <td>2270.0</td>\n",
       "    </tr>\n",
       "    <tr>\n",
       "      <th>23</th>\n",
       "      <td>252700.0</td>\n",
       "      <td>1070.0</td>\n",
       "    </tr>\n",
       "    <tr>\n",
       "      <th>24</th>\n",
       "      <td>329000.0</td>\n",
       "      <td>2450.0</td>\n",
       "    </tr>\n",
       "    <tr>\n",
       "      <th>25</th>\n",
       "      <td>233000.0</td>\n",
       "      <td>1710.0</td>\n",
       "    </tr>\n",
       "    <tr>\n",
       "      <th>26</th>\n",
       "      <td>937000.0</td>\n",
       "      <td>2450.0</td>\n",
       "    </tr>\n",
       "    <tr>\n",
       "      <th>27</th>\n",
       "      <td>667000.0</td>\n",
       "      <td>1400.0</td>\n",
       "    </tr>\n",
       "    <tr>\n",
       "      <th>28</th>\n",
       "      <td>438000.0</td>\n",
       "      <td>1520.0</td>\n",
       "    </tr>\n",
       "    <tr>\n",
       "      <th>29</th>\n",
       "      <td>719000.0</td>\n",
       "      <td>2570.0</td>\n",
       "    </tr>\n",
       "  </tbody>\n",
       "</table>\n",
       "</div>"
      ],
      "text/plain": [
       "    sale_price  flat_area\n",
       "0     221900.0     1180.0\n",
       "1     538000.0     2570.0\n",
       "2     180000.0      770.0\n",
       "3     604000.0     1960.0\n",
       "4     510000.0     1680.0\n",
       "5    1129575.0     5420.0\n",
       "6     257500.0     1715.0\n",
       "7     291850.0     1060.0\n",
       "8     229500.0     1780.0\n",
       "9     323000.0     1890.0\n",
       "10    662500.0     3560.0\n",
       "11    468000.0     1160.0\n",
       "12    310000.0     1430.0\n",
       "13    400000.0     1370.0\n",
       "14    530000.0     1810.0\n",
       "15    650000.0     2950.0\n",
       "16    395000.0     1890.0\n",
       "17    485000.0     1600.0\n",
       "18    189000.0     1200.0\n",
       "19    230000.0     1250.0\n",
       "20    385000.0     1620.0\n",
       "21   1129575.0     3050.0\n",
       "22    285000.0     2270.0\n",
       "23    252700.0     1070.0\n",
       "24    329000.0     2450.0\n",
       "25    233000.0     1710.0\n",
       "26    937000.0     2450.0\n",
       "27    667000.0     1400.0\n",
       "28    438000.0     1520.0\n",
       "29    719000.0     2570.0"
      ]
     },
     "execution_count": 3,
     "metadata": {},
     "output_type": "execute_result"
    }
   ],
   "source": [
    "sale_price = data[\"Sale_Price\"].head(30)\n",
    "flat_area = data['Flat Area (in Sqft)'].head(30)\n",
    "sample_data = pd.DataFrame({ 'sale_price': sale_price,\n",
    "                              'flat_area': flat_area})\n",
    "sample_data"
   ]
  },
  {
   "cell_type": "markdown",
   "metadata": {
    "colab_type": "text",
    "id": "V5VGnEofXDUh"
   },
   "source": [
    "## Plotting th data"
   ]
  },
  {
   "cell_type": "code",
   "execution_count": 4,
   "metadata": {
    "colab": {
     "base_uri": "https://localhost:8080/",
     "height": 615
    },
    "colab_type": "code",
    "executionInfo": {
     "elapsed": 3388,
     "status": "ok",
     "timestamp": 1583905390975,
     "user": {
      "displayName": "Sharoon Saxena",
      "photoUrl": "https://lh3.googleusercontent.com/a-/AOh14GjyKz9rNCPkHi6QK8TjrjBFlTtaI9ngf0hIwgAl=s64",
      "userId": "01167841530696023488"
     },
     "user_tz": -330
    },
    "id": "DdENo57dj6hn",
    "outputId": "2bef2ba9-3475-4ddd-e5fa-785e71d0047c"
   },
   "outputs": [
    {
     "data": {
      "image/png": "[encoded data removed]",
      "text/plain": [
       "<Figure size 900x600 with 1 Axes>"
      ]
     },
     "metadata": {
      "needs_background": "light"
     },
     "output_type": "display_data"
    }
   ],
   "source": [
    "plt.figure( dpi = 150)\n",
    "plt.scatter(sample_data.flat_area, sample_data.sale_price, color = 'red', label = 'sale_price')\n",
    "plt.xlabel('Flat_Area')\n",
    "plt.ylabel('Sale_Price')\n",
    "plt.title(\"Sale_Price/Flat_Area\")\n",
    "plt.legend()\n",
    "plt.show()"
   ]
  },
  {
   "cell_type": "code",
   "execution_count": 5,
   "metadata": {
    "colab": {
     "base_uri": "https://localhost:8080/",
     "height": 615
    },
    "colab_type": "code",
    "executionInfo": {
     "elapsed": 2585,
     "status": "ok",
     "timestamp": 1583905390975,
     "user": {
      "displayName": "Sharoon Saxena",
      "photoUrl": "https://lh3.googleusercontent.com/a-/AOh14GjyKz9rNCPkHi6QK8TjrjBFlTtaI9ngf0hIwgAl=s64",
      "userId": "01167841530696023488"
     },
     "user_tz": -330
    },
    "id": "XmMd6JuToLKy",
    "outputId": "43aade83-ae84-44bd-8b90-354b9cfadcc1"
   },
   "outputs": [
    {
     "data": {
      "image/png": "[encoded data removed]",
      "text/plain": [
       "<Figure size 900x600 with 1 Axes>"
      ]
     },
     "metadata": {
      "needs_background": "light"
     },
     "output_type": "display_data"
    }
   ],
   "source": [
    "sample_data['mean_sale_price'] = sample_data.sale_price.mean()\n",
    "\n",
    "\n",
    "plt.figure( dpi = 150)\n",
    "plt.scatter(sample_data.flat_area, sample_data.sale_price, color = 'red')\n",
    "plt.plot(sample_data.flat_area, sample_data.mean_sale_price, color = \"yellow\", label = 'Mean Sale Price')\n",
    "plt.xlabel('Flat_Area')\n",
    "plt.ylabel('Sale_Price')\n",
    "plt.title(\"Sale_Price/Flat_Area\")\n",
    "plt.legend()\n",
    "plt.show()"
   ]
  },
  {
   "cell_type": "code",
   "execution_count": 6,
   "metadata": {
    "colab": {
     "base_uri": "https://localhost:8080/",
     "height": 535
    },
    "colab_type": "code",
    "executionInfo": {
     "elapsed": 3256,
     "status": "ok",
     "timestamp": 1583905392172,
     "user": {
      "displayName": "Sharoon Saxena",
      "photoUrl": "https://lh3.googleusercontent.com/a-/AOh14GjyKz9rNCPkHi6QK8TjrjBFlTtaI9ngf0hIwgAl=s64",
      "userId": "01167841530696023488"
     },
     "user_tz": -330
    },
    "id": "aToNdLtGkxVR",
    "outputId": "6f566a5f-cf14-48e5-c1a4-49bf7869e04b"
   },
   "outputs": [
    {
     "data": {
      "text/plain": [
       "Text(0.5, 1.0, 'Slope 0 with MSE 281372081125.0')"
      ]
     },
     "execution_count": 6,
     "metadata": {},
     "output_type": "execute_result"
    },
    {
     "data": {
      "image/png": "[encoded data removed]",
      "text/plain": [
       "<Figure size 780x520 with 1 Axes>"
      ]
     },
     "metadata": {
      "needs_background": "light"
     },
     "output_type": "display_data"
    }
   ],
   "source": [
    "c = 0\n",
    "m = 0\n",
    "\n",
    "line = []\n",
    "\n",
    "for i in range(len(sample_data)):\n",
    "    line.append(sample_data.flat_area[i] * m + c)\n",
    "\n",
    "plt.figure(dpi = 130)\n",
    "plt.scatter(sample_data.flat_area, sample_data.sale_price)\n",
    "plt.plot(sample_data.flat_area, line, label = 'm = 0.0; c = 0')\n",
    "plt.xlabel('Flat_Area')\n",
    "plt.ylabel('Sale_Price')\n",
    "plt.legend()\n",
    "MSE = mse(sample_data.sale_price, line)\n",
    "plt.title(\"Slope \"+str(m)+\" with MSE \"+ str(MSE))"
   ]
  },
  {
   "cell_type": "code",
   "execution_count": 7,
   "metadata": {
    "colab": {
     "base_uri": "https://localhost:8080/",
     "height": 535
    },
    "colab_type": "code",
    "executionInfo": {
     "elapsed": 2178,
     "status": "ok",
     "timestamp": 1583905393110,
     "user": {
      "displayName": "Sharoon Saxena",
      "photoUrl": "https://lh3.googleusercontent.com/a-/AOh14GjyKz9rNCPkHi6QK8TjrjBFlTtaI9ngf0hIwgAl=s64",
      "userId": "01167841530696023488"
     },
     "user_tz": -330
    },
    "id": "hupZ1-vFyVWq",
    "outputId": "c6509af4-a4a8-468a-a7d3-d8f4d5d15ef8"
   },
   "outputs": [
    {
     "data": {
      "text/plain": [
       "Text(0.5, 1.0, 'Slope 50 with MSE 184728400708.33334')"
      ]
     },
     "execution_count": 7,
     "metadata": {},
     "output_type": "execute_result"
    },
    {
     "data": {
      "image/png": "[encoded data removed]",
      "text/plain": [
       "<Figure size 780x520 with 1 Axes>"
      ]
     },
     "metadata": {
      "needs_background": "light"
     },
     "output_type": "display_data"
    }
   ],
   "source": [
    "c = 0\n",
    "m = 50\n",
    "\n",
    "line = []\n",
    "\n",
    "for i in range(len(sample_data)):\n",
    "    line.append(sample_data.flat_area[i] * m + c)\n",
    "\n",
    "plt.figure(dpi = 130)\n",
    "plt.scatter(sample_data.flat_area, sample_data.sale_price)\n",
    "plt.plot(sample_data.flat_area, line, label = 'm = 50; c = 0')\n",
    "plt.xlabel('Flat_Area')\n",
    "plt.ylabel('Sale_Price')\n",
    "plt.legend()\n",
    "MSE = mse(sample_data.sale_price, line)\n",
    "plt.title(\"Slope \"+str(m)+\" with MSE \"+ str(MSE))"
   ]
  },
  {
   "cell_type": "code",
   "execution_count": 8,
   "metadata": {
    "colab": {},
    "colab_type": "code",
    "id": "lkaleUm3yVWv"
   },
   "outputs": [],
   "source": [
    "def slope_Error( slope, intercept ,  sample_data):\n",
    "    sale = []\n",
    "    for i in range(len(sample_data.flat_area)):\n",
    "        tmp = sample_data.flat_area[i] * slope + intercept\n",
    "        sale.append(tmp)\n",
    "    MSE = mse(sample_data.sale_price, sale)\n",
    "    return MSE"
   ]
  },
  {
   "cell_type": "code",
   "execution_count": 9,
   "metadata": {
    "colab": {},
    "colab_type": "code",
    "id": "_q81dG0jILED"
   },
   "outputs": [],
   "source": [
    "slope = [i/10 for i in range(0,5000)]\n",
    "Cost = []\n",
    "for i in slope:\n",
    "    cost = slope_Error( slope = i, intercept = 0, sample_data = sample_data)\n",
    "    Cost.append(cost)"
   ]
  },
  {
   "cell_type": "code",
   "execution_count": 10,
   "metadata": {
    "colab": {
     "base_uri": "https://localhost:8080/",
     "height": 204
    },
    "colab_type": "code",
    "executionInfo": {
     "elapsed": 4622,
     "status": "ok",
     "timestamp": 1583905399518,
     "user": {
      "displayName": "Sharoon Saxena",
      "photoUrl": "https://lh3.googleusercontent.com/a-/AOh14GjyKz9rNCPkHi6QK8TjrjBFlTtaI9ngf0hIwgAl=s64",
      "userId": "01167841530696023488"
     },
     "user_tz": -330
    },
    "id": "TkTVWJE3UL1y",
    "outputId": "e936e7f7-ac57-470a-ad40-1f4703175081"
   },
   "outputs": [
    {
     "data": {
      "text/html": [
       "<div>\n",
       "<style scoped>\n",
       "    .dataframe tbody tr th:only-of-type {\n",
       "        vertical-align: middle;\n",
       "    }\n",
       "\n",
       "    .dataframe tbody tr th {\n",
       "        vertical-align: top;\n",
       "    }\n",
       "\n",
       "    .dataframe thead th {\n",
       "        text-align: right;\n",
       "    }\n",
       "</style>\n",
       "<table border=\"1\" class=\"dataframe\">\n",
       "  <thead>\n",
       "    <tr style=\"text-align: right;\">\n",
       "      <th></th>\n",
       "      <th>slope</th>\n",
       "      <th>Cost</th>\n",
       "    </tr>\n",
       "  </thead>\n",
       "  <tbody>\n",
       "    <tr>\n",
       "      <th>4995</th>\n",
       "      <td>499.5</td>\n",
       "      <td>3.526038e+11</td>\n",
       "    </tr>\n",
       "    <tr>\n",
       "      <th>4996</th>\n",
       "      <td>499.6</td>\n",
       "      <td>3.528488e+11</td>\n",
       "    </tr>\n",
       "    <tr>\n",
       "      <th>4997</th>\n",
       "      <td>499.7</td>\n",
       "      <td>3.530938e+11</td>\n",
       "    </tr>\n",
       "    <tr>\n",
       "      <th>4998</th>\n",
       "      <td>499.8</td>\n",
       "      <td>3.533389e+11</td>\n",
       "    </tr>\n",
       "    <tr>\n",
       "      <th>4999</th>\n",
       "      <td>499.9</td>\n",
       "      <td>3.535842e+11</td>\n",
       "    </tr>\n",
       "  </tbody>\n",
       "</table>\n",
       "</div>"
      ],
      "text/plain": [
       "      slope          Cost\n",
       "4995  499.5  3.526038e+11\n",
       "4996  499.6  3.528488e+11\n",
       "4997  499.7  3.530938e+11\n",
       "4998  499.8  3.533389e+11\n",
       "4999  499.9  3.535842e+11"
      ]
     },
     "execution_count": 10,
     "metadata": {},
     "output_type": "execute_result"
    }
   ],
   "source": [
    "# Arranging in DataFrame\n",
    "Cost_table = pd.DataFrame({\n",
    "    'slope' : slope,\n",
    "    'Cost' : Cost\n",
    "})\n",
    "Cost_table.tail()"
   ]
  },
  {
   "cell_type": "code",
   "execution_count": 11,
   "metadata": {
    "colab": {
     "base_uri": "https://localhost:8080/",
     "height": 307
    },
    "colab_type": "code",
    "executionInfo": {
     "elapsed": 1766,
     "status": "ok",
     "timestamp": 1583905400312,
     "user": {
      "displayName": "Sharoon Saxena",
      "photoUrl": "https://lh3.googleusercontent.com/a-/AOh14GjyKz9rNCPkHi6QK8TjrjBFlTtaI9ngf0hIwgAl=s64",
      "userId": "01167841530696023488"
     },
     "user_tz": -330
    },
    "id": "UN-dV1GUU6RH",
    "outputId": "e0dba1f3-d8fe-4efe-f52b-729808fc06e6"
   },
   "outputs": [
    {
     "data": {
      "text/plain": [
       "<matplotlib.legend.Legend at 0x22c40e40388>"
      ]
     },
     "execution_count": 11,
     "metadata": {},
     "output_type": "execute_result"
    },
    {
     "data": {
      "image/png": "[encoded data removed]",
      "text/plain": [
       "<Figure size 432x288 with 1 Axes>"
      ]
     },
     "metadata": {
      "needs_background": "light"
     },
     "output_type": "display_data"
    }
   ],
   "source": [
    "# plotting the cost values corresponding to every value of Beta\n",
    "plt.plot(Cost_table.slope, Cost_table.Cost, label = 'Cost Function Curve')\n",
    "plt.xlabel('Value of slope')\n",
    "plt.ylabel('Cost')\n",
    "plt.legend()"
   ]
  },
  {
   "cell_type": "code",
   "execution_count": 12,
   "metadata": {
    "colab": {
     "base_uri": "https://localhost:8080/",
     "height": 34
    },
    "colab_type": "code",
    "executionInfo": {
     "elapsed": 1264,
     "status": "ok",
     "timestamp": 1583905402248,
     "user": {
      "displayName": "Sharoon Saxena",
      "photoUrl": "https://lh3.googleusercontent.com/a-/AOh14GjyKz9rNCPkHi6QK8TjrjBFlTtaI9ngf0hIwgAl=s64",
      "userId": "01167841530696023488"
     },
     "user_tz": -330
    },
    "id": "5hdMFzAN6s22",
    "outputId": "19e51e02-62b6-4653-a445-90a65109a16d"
   },
   "outputs": [
    {
     "data": {
      "text/plain": [
       "234.3"
      ]
     },
     "execution_count": 12,
     "metadata": {},
     "output_type": "execute_result"
    }
   ],
   "source": [
    "new_slope = Cost_table['slope'][Cost_table['Cost'] == Cost_table['Cost'].min()].values\n",
    "new_slope[0]"
   ]
  },
  {
   "cell_type": "code",
   "execution_count": 13,
   "metadata": {
    "colab": {},
    "colab_type": "code",
    "id": "BZjtuHF6U7c3"
   },
   "outputs": [],
   "source": [
    "def intercept_Error( slope, intercept ,  sample_data):\n",
    "    sale = []\n",
    "    for i in range(len(sample_data.flat_area)):\n",
    "        tmp = sample_data.flat_area[i] * slope + intercept\n",
    "        sale.append(tmp)\n",
    "    MSE = mse(sample_data.sale_price, sale)\n",
    "    return MSE"
   ]
  },
  {
   "cell_type": "code",
   "execution_count": 14,
   "metadata": {
    "colab": {},
    "colab_type": "code",
    "id": "7wvsOJvlVP_D"
   },
   "outputs": [],
   "source": [
    "intercept = [i for i in range(5000,50000)]\n",
    "Cost = []\n",
    "for i in intercept:\n",
    "    cost = intercept_Error( slope = 234, intercept = i, sample_data = sample_data)\n",
    "    Cost.append(cost)"
   ]
  },
  {
   "cell_type": "code",
   "execution_count": 15,
   "metadata": {
    "colab": {
     "base_uri": "https://localhost:8080/",
     "height": 204
    },
    "colab_type": "code",
    "executionInfo": {
     "elapsed": 28714,
     "status": "ok",
     "timestamp": 1583905447548,
     "user": {
      "displayName": "Sharoon Saxena",
      "photoUrl": "https://lh3.googleusercontent.com/a-/AOh14GjyKz9rNCPkHi6QK8TjrjBFlTtaI9ngf0hIwgAl=s64",
      "userId": "01167841530696023488"
     },
     "user_tz": -330
    },
    "id": "8Xud6MOSVP_F",
    "outputId": "10693efb-9164-4c65-97af-d58639caf2a3"
   },
   "outputs": [
    {
     "data": {
      "text/html": [
       "<div>\n",
       "<style scoped>\n",
       "    .dataframe tbody tr th:only-of-type {\n",
       "        vertical-align: middle;\n",
       "    }\n",
       "\n",
       "    .dataframe tbody tr th {\n",
       "        vertical-align: top;\n",
       "    }\n",
       "\n",
       "    .dataframe thead th {\n",
       "        text-align: right;\n",
       "    }\n",
       "</style>\n",
       "<table border=\"1\" class=\"dataframe\">\n",
       "  <thead>\n",
       "    <tr style=\"text-align: right;\">\n",
       "      <th></th>\n",
       "      <th>intercept</th>\n",
       "      <th>Cost</th>\n",
       "    </tr>\n",
       "  </thead>\n",
       "  <tbody>\n",
       "    <tr>\n",
       "      <th>0</th>\n",
       "      <td>5000</td>\n",
       "      <td>2.779911e+10</td>\n",
       "    </tr>\n",
       "    <tr>\n",
       "      <th>1</th>\n",
       "      <td>5001</td>\n",
       "      <td>2.779909e+10</td>\n",
       "    </tr>\n",
       "    <tr>\n",
       "      <th>2</th>\n",
       "      <td>5002</td>\n",
       "      <td>2.779908e+10</td>\n",
       "    </tr>\n",
       "    <tr>\n",
       "      <th>3</th>\n",
       "      <td>5003</td>\n",
       "      <td>2.779907e+10</td>\n",
       "    </tr>\n",
       "    <tr>\n",
       "      <th>4</th>\n",
       "      <td>5004</td>\n",
       "      <td>2.779906e+10</td>\n",
       "    </tr>\n",
       "  </tbody>\n",
       "</table>\n",
       "</div>"
      ],
      "text/plain": [
       "   intercept          Cost\n",
       "0       5000  2.779911e+10\n",
       "1       5001  2.779909e+10\n",
       "2       5002  2.779908e+10\n",
       "3       5003  2.779907e+10\n",
       "4       5004  2.779906e+10"
      ]
     },
     "execution_count": 15,
     "metadata": {},
     "output_type": "execute_result"
    }
   ],
   "source": [
    "# Arranging in DataFrame\n",
    "Cost_table = pd.DataFrame({\n",
    "    'intercept' : intercept,\n",
    "    'Cost' : Cost\n",
    "})\n",
    "Cost_table.head()"
   ]
  },
  {
   "cell_type": "code",
   "execution_count": 16,
   "metadata": {
    "colab": {
     "base_uri": "https://localhost:8080/",
     "height": 307
    },
    "colab_type": "code",
    "executionInfo": {
     "elapsed": 20204,
     "status": "ok",
     "timestamp": 1583905447549,
     "user": {
      "displayName": "Sharoon Saxena",
      "photoUrl": "https://lh3.googleusercontent.com/a-/AOh14GjyKz9rNCPkHi6QK8TjrjBFlTtaI9ngf0hIwgAl=s64",
      "userId": "01167841530696023488"
     },
     "user_tz": -330
    },
    "id": "ToSCt-QrVP_H",
    "outputId": "2309080d-f339-495f-e793-582a23f29e32"
   },
   "outputs": [
    {
     "data": {
      "text/plain": [
       "<matplotlib.legend.Legend at 0x22c41932688>"
      ]
     },
     "execution_count": 16,
     "metadata": {},
     "output_type": "execute_result"
    },
    {
     "data": {
      "image/png": "[encoded data removed]",
      "text/plain": [
       "<Figure size 432x288 with 1 Axes>"
      ]
     },
     "metadata": {
      "needs_background": "light"
     },
     "output_type": "display_data"
    }
   ],
   "source": [
    "# plotting the cost values corresponding to every value of Beta\n",
    "plt.plot(Cost_table.intercept, Cost_table.Cost, label = 'Cost Function Curve')\n",
    "plt.xlabel('Value of intercept')\n",
    "plt.ylabel('Cost')\n",
    "plt.legend()"
   ]
  },
  {
   "cell_type": "code",
   "execution_count": 17,
   "metadata": {
    "colab": {
     "base_uri": "https://localhost:8080/",
     "height": 34
    },
    "colab_type": "code",
    "executionInfo": {
     "elapsed": 17736,
     "status": "ok",
     "timestamp": 1583905447550,
     "user": {
      "displayName": "Sharoon Saxena",
      "photoUrl": "https://lh3.googleusercontent.com/a-/AOh14GjyKz9rNCPkHi6QK8TjrjBFlTtaI9ngf0hIwgAl=s64",
      "userId": "01167841530696023488"
     },
     "user_tz": -330
    },
    "id": "X0a86MH-V-0k",
    "outputId": "8aaa21fe-c573-4c45-cdbd-bd2e56b6d56a"
   },
   "outputs": [
    {
     "data": {
      "text/plain": [
       "10834"
      ]
     },
     "execution_count": 17,
     "metadata": {},
     "output_type": "execute_result"
    }
   ],
   "source": [
    "new_intercept = Cost_table['intercept'][Cost_table['Cost'] == Cost_table['Cost'].min()].values\n",
    "new_intercept[0]"
   ]
  },
  {
   "cell_type": "code",
   "execution_count": 18,
   "metadata": {
    "colab": {},
    "colab_type": "code",
    "id": "xFKYHx2dGyur"
   },
   "outputs": [],
   "source": [
    "slope = [i/10 for i in range(0,5000)]\n",
    "Cost = []\n",
    "for i in slope:\n",
    "    cost = slope_Error( slope = i, intercept = 10834, sample_data = sample_data)\n",
    "    Cost.append(cost)"
   ]
  },
  {
   "cell_type": "code",
   "execution_count": 19,
   "metadata": {
    "colab": {
     "base_uri": "https://localhost:8080/",
     "height": 204
    },
    "colab_type": "code",
    "executionInfo": {
     "elapsed": 2156,
     "status": "ok",
     "timestamp": 1583905471444,
     "user": {
      "displayName": "Sharoon Saxena",
      "photoUrl": "https://lh3.googleusercontent.com/a-/AOh14GjyKz9rNCPkHi6QK8TjrjBFlTtaI9ngf0hIwgAl=s64",
      "userId": "01167841530696023488"
     },
     "user_tz": -330
    },
    "id": "fJjYhCzNGyu2",
    "outputId": "26eae372-e243-46c6-9476-6f2f5a9df69d"
   },
   "outputs": [
    {
     "data": {
      "text/html": [
       "<div>\n",
       "<style scoped>\n",
       "    .dataframe tbody tr th:only-of-type {\n",
       "        vertical-align: middle;\n",
       "    }\n",
       "\n",
       "    .dataframe tbody tr th {\n",
       "        vertical-align: top;\n",
       "    }\n",
       "\n",
       "    .dataframe thead th {\n",
       "        text-align: right;\n",
       "    }\n",
       "</style>\n",
       "<table border=\"1\" class=\"dataframe\">\n",
       "  <thead>\n",
       "    <tr style=\"text-align: right;\">\n",
       "      <th></th>\n",
       "      <th>slope</th>\n",
       "      <th>Cost</th>\n",
       "    </tr>\n",
       "  </thead>\n",
       "  <tbody>\n",
       "    <tr>\n",
       "      <th>4995</th>\n",
       "      <td>499.5</td>\n",
       "      <td>3.636767e+11</td>\n",
       "    </tr>\n",
       "    <tr>\n",
       "      <th>4996</th>\n",
       "      <td>499.6</td>\n",
       "      <td>3.639259e+11</td>\n",
       "    </tr>\n",
       "    <tr>\n",
       "      <th>4997</th>\n",
       "      <td>499.7</td>\n",
       "      <td>3.641751e+11</td>\n",
       "    </tr>\n",
       "    <tr>\n",
       "      <th>4998</th>\n",
       "      <td>499.8</td>\n",
       "      <td>3.644245e+11</td>\n",
       "    </tr>\n",
       "    <tr>\n",
       "      <th>4999</th>\n",
       "      <td>499.9</td>\n",
       "      <td>3.646739e+11</td>\n",
       "    </tr>\n",
       "  </tbody>\n",
       "</table>\n",
       "</div>"
      ],
      "text/plain": [
       "      slope          Cost\n",
       "4995  499.5  3.636767e+11\n",
       "4996  499.6  3.639259e+11\n",
       "4997  499.7  3.641751e+11\n",
       "4998  499.8  3.644245e+11\n",
       "4999  499.9  3.646739e+11"
      ]
     },
     "execution_count": 19,
     "metadata": {},
     "output_type": "execute_result"
    }
   ],
   "source": [
    "# Arranging in DataFrame\n",
    "Cost_table = pd.DataFrame({\n",
    "    'slope' : slope,\n",
    "    'Cost' : Cost\n",
    "})\n",
    "Cost_table.tail()"
   ]
  },
  {
   "cell_type": "code",
   "execution_count": 20,
   "metadata": {
    "colab": {
     "base_uri": "https://localhost:8080/",
     "height": 307
    },
    "colab_type": "code",
    "executionInfo": {
     "elapsed": 1922,
     "status": "ok",
     "timestamp": 1583905497830,
     "user": {
      "displayName": "Sharoon Saxena",
      "photoUrl": "https://lh3.googleusercontent.com/a-/AOh14GjyKz9rNCPkHi6QK8TjrjBFlTtaI9ngf0hIwgAl=s64",
      "userId": "01167841530696023488"
     },
     "user_tz": -330
    },
    "id": "ooSGCvzuGyu5",
    "outputId": "9570d98a-5839-4001-d8f7-07df5bde2e03"
   },
   "outputs": [
    {
     "data": {
      "text/plain": [
       "<matplotlib.legend.Legend at 0x22c419830c8>"
      ]
     },
     "execution_count": 20,
     "metadata": {},
     "output_type": "execute_result"
    },
    {
     "data": {
      "image/png": "[encoded data removed]",
      "text/plain": [
       "<Figure size 432x288 with 1 Axes>"
      ]
     },
     "metadata": {
      "needs_background": "light"
     },
     "output_type": "display_data"
    }
   ],
   "source": [
    "# plotting the cost values corresponding to every value of Beta\n",
    "plt.plot(Cost_table.slope, Cost_table.Cost, label = 'Cost Function Curve')\n",
    "plt.xlabel('Value of slope')\n",
    "plt.ylabel('Cost')\n",
    "plt.legend()"
   ]
  },
  {
   "cell_type": "code",
   "execution_count": 21,
   "metadata": {
    "colab": {
     "base_uri": "https://localhost:8080/",
     "height": 34
    },
    "colab_type": "code",
    "executionInfo": {
     "elapsed": 1126,
     "status": "ok",
     "timestamp": 1583905498331,
     "user": {
      "displayName": "Sharoon Saxena",
      "photoUrl": "https://lh3.googleusercontent.com/a-/AOh14GjyKz9rNCPkHi6QK8TjrjBFlTtaI9ngf0hIwgAl=s64",
      "userId": "01167841530696023488"
     },
     "user_tz": -330
    },
    "id": "IVEjjUTrYgSv",
    "outputId": "19089203-ee43-4e28-9f87-c6e8693c2e89"
   },
   "outputs": [
    {
     "data": {
      "text/plain": [
       "229.7"
      ]
     },
     "execution_count": 21,
     "metadata": {},
     "output_type": "execute_result"
    }
   ],
   "source": [
    "new_slope = Cost_table['slope'][Cost_table['Cost'] == Cost_table['Cost'].min()].values\n",
    "new_slope[0]"
   ]
  },
  {
   "cell_type": "code",
   "execution_count": 22,
   "metadata": {
    "colab": {},
    "colab_type": "code",
    "id": "wEqSDnmgJLj8"
   },
   "outputs": [],
   "source": [
    "intercept = [i for i in range(5000,50000)]\n",
    "Cost = []\n",
    "for i in intercept:\n",
    "    cost = intercept_Error( slope = 229.7, intercept = i, sample_data = sample_data)\n",
    "    Cost.append(cost)"
   ]
  },
  {
   "cell_type": "code",
   "execution_count": 23,
   "metadata": {
    "colab": {
     "base_uri": "https://localhost:8080/",
     "height": 204
    },
    "colab_type": "code",
    "executionInfo": {
     "elapsed": 34971,
     "status": "ok",
     "timestamp": 1583905984157,
     "user": {
      "displayName": "Sharoon Saxena",
      "photoUrl": "https://lh3.googleusercontent.com/a-/AOh14GjyKz9rNCPkHi6QK8TjrjBFlTtaI9ngf0hIwgAl=s64",
      "userId": "01167841530696023488"
     },
     "user_tz": -330
    },
    "id": "_w7X8Om2JLkI",
    "outputId": "49a590da-a2d8-45f4-c0bc-66d402c7cbcf"
   },
   "outputs": [
    {
     "data": {
      "text/html": [
       "<div>\n",
       "<style scoped>\n",
       "    .dataframe tbody tr th:only-of-type {\n",
       "        vertical-align: middle;\n",
       "    }\n",
       "\n",
       "    .dataframe tbody tr th {\n",
       "        vertical-align: top;\n",
       "    }\n",
       "\n",
       "    .dataframe thead th {\n",
       "        text-align: right;\n",
       "    }\n",
       "</style>\n",
       "<table border=\"1\" class=\"dataframe\">\n",
       "  <thead>\n",
       "    <tr style=\"text-align: right;\">\n",
       "      <th></th>\n",
       "      <th>intercept</th>\n",
       "      <th>Cost</th>\n",
       "    </tr>\n",
       "  </thead>\n",
       "  <tbody>\n",
       "    <tr>\n",
       "      <th>0</th>\n",
       "      <td>5000</td>\n",
       "      <td>2.781305e+10</td>\n",
       "    </tr>\n",
       "    <tr>\n",
       "      <th>1</th>\n",
       "      <td>5001</td>\n",
       "      <td>2.781302e+10</td>\n",
       "    </tr>\n",
       "    <tr>\n",
       "      <th>2</th>\n",
       "      <td>5002</td>\n",
       "      <td>2.781299e+10</td>\n",
       "    </tr>\n",
       "    <tr>\n",
       "      <th>3</th>\n",
       "      <td>5003</td>\n",
       "      <td>2.781296e+10</td>\n",
       "    </tr>\n",
       "    <tr>\n",
       "      <th>4</th>\n",
       "      <td>5004</td>\n",
       "      <td>2.781293e+10</td>\n",
       "    </tr>\n",
       "  </tbody>\n",
       "</table>\n",
       "</div>"
      ],
      "text/plain": [
       "   intercept          Cost\n",
       "0       5000  2.781305e+10\n",
       "1       5001  2.781302e+10\n",
       "2       5002  2.781299e+10\n",
       "3       5003  2.781296e+10\n",
       "4       5004  2.781293e+10"
      ]
     },
     "execution_count": 23,
     "metadata": {},
     "output_type": "execute_result"
    }
   ],
   "source": [
    "# Arranging in DataFrame\n",
    "Cost_table = pd.DataFrame({\n",
    "    'intercept' : intercept,\n",
    "    'Cost' : Cost\n",
    "})\n",
    "Cost_table.head()"
   ]
  },
  {
   "cell_type": "code",
   "execution_count": 24,
   "metadata": {
    "colab": {
     "base_uri": "https://localhost:8080/",
     "height": 307
    },
    "colab_type": "code",
    "executionInfo": {
     "elapsed": 34721,
     "status": "ok",
     "timestamp": 1583905984157,
     "user": {
      "displayName": "Sharoon Saxena",
      "photoUrl": "https://lh3.googleusercontent.com/a-/AOh14GjyKz9rNCPkHi6QK8TjrjBFlTtaI9ngf0hIwgAl=s64",
      "userId": "01167841530696023488"
     },
     "user_tz": -330
    },
    "id": "xDa0dbU2JLkL",
    "outputId": "b2281708-7c9f-40be-c8c8-29a8a330a615"
   },
   "outputs": [
    {
     "data": {
      "text/plain": [
       "<matplotlib.legend.Legend at 0x22c412ecc08>"
      ]
     },
     "execution_count": 24,
     "metadata": {},
     "output_type": "execute_result"
    },
    {
     "data": {
      "image/png": "[encoded data removed]",
      "text/plain": [
       "<Figure size 432x288 with 1 Axes>"
      ]
     },
     "metadata": {
      "needs_background": "light"
     },
     "output_type": "display_data"
    }
   ],
   "source": [
    "# plotting the cost values corresponding to every value of Beta\n",
    "plt.plot(Cost_table.intercept, Cost_table.Cost, label = 'Cost Function Curve')\n",
    "plt.xlabel('Value of intercept')\n",
    "plt.ylabel('Cost')\n",
    "plt.legend()"
   ]
  },
  {
   "cell_type": "code",
   "execution_count": 25,
   "metadata": {
    "colab": {
     "base_uri": "https://localhost:8080/",
     "height": 34
    },
    "colab_type": "code",
    "executionInfo": {
     "elapsed": 33528,
     "status": "ok",
     "timestamp": 1583905984158,
     "user": {
      "displayName": "Sharoon Saxena",
      "photoUrl": "https://lh3.googleusercontent.com/a-/AOh14GjyKz9rNCPkHi6QK8TjrjBFlTtaI9ngf0hIwgAl=s64",
      "userId": "01167841530696023488"
     },
     "user_tz": -330
    },
    "id": "ERsE7SdWG9QJ",
    "outputId": "be03cbfd-8f6c-4261-e83a-71e1a612e06a"
   },
   "outputs": [
    {
     "data": {
      "text/plain": [
       "19199"
      ]
     },
     "execution_count": 25,
     "metadata": {},
     "output_type": "execute_result"
    }
   ],
   "source": [
    "new_intercept = Cost_table['intercept'][Cost_table['Cost'] == Cost_table['Cost'].min()].values\n",
    "new_intercept[0]"
   ]
  },
  {
   "cell_type": "code",
   "execution_count": null,
   "metadata": {
    "colab": {},
    "colab_type": "code",
    "id": "AC0Jrh03Johp"
   },
   "outputs": [],
   "source": []
  },
  {
   "cell_type": "code",
   "execution_count": null,
   "metadata": {},
   "outputs": [],
   "source": []
  },
  {
   "cell_type": "code",
   "execution_count": null,
   "metadata": {},
   "outputs": [],
   "source": []
  },
  {
   "cell_type": "code",
   "execution_count": null,
   "metadata": {},
   "outputs": [],
   "source": []
  },
  {
   "cell_type": "code",
   "execution_count": null,
   "metadata": {},
   "outputs": [],
   "source": []
  },
  {
   "cell_type": "code",
   "execution_count": null,
   "metadata": {},
   "outputs": [],
   "source": []
  },
  {
   "cell_type": "code",
   "execution_count": null,
   "metadata": {},
   "outputs": [],
   "source": []
  },
  {
   "cell_type": "code",
   "execution_count": null,
   "metadata": {},
   "outputs": [],
   "source": []
  }
 ],
 "metadata": {
  "colab": {
   "collapsed_sections": [],
   "name": "M5 T2.ipynb",
   "provenance": []
  },
  "kernelspec": {
   "display_name": "Python 3",
   "language": "python",
   "name": "python3"
  },
  "language_info": {
   "codemirror_mode": {
    "name": "ipython",
    "version": 3
   },
   "file_extension": ".py",
   "mimetype": "text/x-python",
   "name": "python",
   "nbconvert_exporter": "python",
   "pygments_lexer": "ipython3",
   "version": "3.7.7"
  }
 },
 "nbformat": 4,
 "nbformat_minor": 1
}
